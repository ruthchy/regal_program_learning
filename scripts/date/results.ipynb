{
 "cells": [
  {
   "cell_type": "code",
   "execution_count": 1,
   "metadata": {},
   "outputs": [
    {
     "name": "stdout",
     "output_type": "stream",
     "text": [
      "Train Log Path: /ceph/tsesterh/abstraction/regal_program_learning/data/test_runs_release/date/date_gpt35_main_agent_round1_new_12_seed\n",
      "Accuracy values: [0.6055555555555555, 0.6333333333333333, 0.6055555555555555, 0.6555555555555556, 0.4166666666666667, 0.6333333333333333]\n",
      "Train Log Path: /ceph/tsesterh/abstraction/regal_program_learning\n",
      "Accuracy values: [0.7444444444444445, 0.7277777777777777, 0.7444444444444445]\n"
     ]
    }
   ],
   "source": [
    "import os\n",
    "import json\n",
    "from collections import defaultdict\n",
    "\n",
    "# Function to extract values from args.json and stats.json\n",
    "def get_train_log_and_acc(root_folder):\n",
    "    grouped_data = defaultdict(list)\n",
    "\n",
    "    # Traverse through the root folder and all its subfolders\n",
    "    for subdir, _, files in os.walk(root_folder):\n",
    "        if 'args.json' in files and 'stats.json' in files:\n",
    "            args_file = os.path.join(subdir, 'args.json')\n",
    "            stats_file = os.path.join(subdir, 'stats.json')\n",
    "\n",
    "            # Read args.json and get the value of \"train_log_path\"\n",
    "            with open(args_file, 'r') as f:\n",
    "                args_data = json.load(f)\n",
    "                train_log_path = args_data.get('train_log_path')\n",
    "\n",
    "            # Read stats.json and get the value of \"acc\"\n",
    "            with open(stats_file, 'r') as f:\n",
    "                stats_data = json.load(f)\n",
    "                acc_value = stats_data.get('acc')\n",
    "\n",
    "            # Group by train_log_path and collect all acc values\n",
    "            if train_log_path is not None and acc_value is not None:\n",
    "                grouped_data[train_log_path].append(acc_value)\n",
    "\n",
    "    return grouped_data\n",
    "\n",
    "# Specify the root folder (test_out directory)\n",
    "root_folder = '/ceph/tsesterh/abstraction/regal_program_learning/test_out/date'\n",
    "\n",
    "# Get the grouped data\n",
    "grouped_data = get_train_log_and_acc(root_folder)\n",
    "\n",
    "# Print the results grouped by train_log_path\n",
    "for train_log_path, acc_values in grouped_data.items():\n",
    "    print(f'Train Log Path: {train_log_path}')\n",
    "    print(f'Accuracy values: {acc_values}')"
   ]
  },
  {
   "cell_type": "code",
   "execution_count": 2,
   "metadata": {},
   "outputs": [
    {
     "name": "stdout",
     "output_type": "stream",
     "text": [
      "{'/ceph/tsesterh/abstraction/regal_program_learning/data/test_runs_release/date/date_gpt35_main_agent_round1_new_12_seed': 0.5916666666666667, '/ceph/tsesterh/abstraction/regal_program_learning': 0.7388888888888889}\n"
     ]
    },
    {
     "data": {
      "image/png": "[encoded data removed]",
      "text/plain": [
       "<Figure size 640x480 with 1 Axes>"
      ]
     },
     "metadata": {},
     "output_type": "display_data"
    }
   ],
   "source": [
    "# make a barplot comparing the different train_log_paths. Each bar should represent the average accuracy of the different runs\n",
    "\n",
    "import matplotlib.pyplot as plt\n",
    "\n",
    "# Calculate the average accuracy for each train_log_path\n",
    "\n",
    "avg_acc_values = {train_log_path: sum(acc_values) / len(acc_values) for train_log_path, acc_values in grouped_data.items()}\n",
    "print(avg_acc_values)\n",
    "\n",
    "# Plot the barplot\n",
    "keys = [\"No_Abstraction\", \"Abstraction\"]\n",
    "\n",
    "values = avg_acc_values.values()\n",
    "\n",
    "#reverse the values list\n",
    "values = list(values)\n",
    "values.reverse()\n",
    "\n",
    "plt.bar(keys, values)\n",
    "plt.ylabel('Average Accuracy')\n",
    "plt.xlabel('Train Log Path')\n",
    "#plt.xticks(rotation=90)\n",
    "\n",
    "plt.show()\n",
    "\n"
   ]
  },
  {
   "cell_type": "code",
   "execution_count": 2,
   "metadata": {},
   "outputs": [
    {
     "name": "stdout",
     "output_type": "stream",
     "text": [
      "subtract_months: 1\n",
      "subtract_days: 0\n",
      "format_date: 1\n",
      "get_formatted_date: 1\n",
      "get_date_yesterday: 0\n",
      "get_date_today: 0\n",
      "get_date_one_week_from_today: 1\n",
      "get_date_one_year_ago: 0\n",
      "subtract_month: 0\n",
      "add_day: 1\n",
      "subtract_day: 1\n",
      "get_date_one_week_ago: 1\n",
      "get_date_tomorrow: 0\n",
      "get_date_24h_later: 1\n",
      "get_date_five_years_later: 0\n",
      "get_date_of_nth_weekday: 0\n",
      "get_date_ten_years_later: 1\n",
      "get_date_x_days_ago: 0\n"
     ]
    }
   ],
   "source": [
    "import json\n",
    "import re\n",
    "from collections import defaultdict\n",
    "\n",
    "# Define the Python functions to search for\n",
    "functions = [\n",
    "    \"subtract_months\", \"subtract_days\", \"format_date\", \"get_formatted_date\", \"get_date_yesterday\",\n",
    "    \"get_date_today\", \"get_date_one_week_from_today\", \"get_date_one_year_ago\", \"subtract_month\", \n",
    "    \"add_day\", \"subtract_day\", \"get_date_one_week_ago\", \"get_date_tomorrow\", \"get_date_24h_later\", \n",
    "    \"get_date_five_years_later\", \"get_date_of_nth_weekday\", \"get_date_ten_years_later\", \"get_date_x_days_ago\"\n",
    "]\n",
    "\n",
    "# Initialize a dictionary to hold function counts\n",
    "function_counts = defaultdict(int)\n",
    "\n",
    "# Load the JSONL file\n",
    "with open('/ceph/tsesterh/abstraction/regal_program_learning/test_out/date/exp_06_09_2024_19_46_use_abstraction_41_seed/test_incorrect.jsonl', 'r') as file:\n",
    "    for line in file:\n",
    "        # Parse each line as a JSON object (a dictionary)\n",
    "        entry = json.loads(line)\n",
    "        \n",
    "        # Access the \"program\" field from the JSON object\n",
    "        program = entry.get(\"program\", \"\")\n",
    "        \n",
    "        # Count occurrences of each function in the program code\n",
    "        for function in functions:\n",
    "            function_counts[function] += len(re.findall(rf\"\\b{function}\\b\", program))\n",
    "\n",
    "# Display the result\n",
    "for function, count in function_counts.items():\n",
    "    print(f\"{function}: {count}\")"
   ]
  },
  {
   "cell_type": "code",
   "execution_count": null,
   "metadata": {},
   "outputs": [],
   "source": [
    "text = \"[INST] Your task is to draw simple figures using python Turtle graphics. \\nYou will use a custom turtle library, similar to the built-in library, which is sufficient for all tasks. \\n\\nHere\\'s a description of the custom library: \\n- forward(x): move forward x pixels\\n- left(theta): rotate left by theta degrees\\n- right(theta): rotate right by theta degrees\\n- penup(): stop drawing\\n- pendown(): start drawing\\n- teleport(x, y, theta): move to position (x, y) with angle theta\\n- heading(): get the current angle of the turtle \\n- isdown(): check if the pen is down\\n- embed(program, local_vars): runs the code in program using the current context and teleports back to the original position. Allows you to nest programs. Implementationally, embed gets the turtle state (is_down, x, y, heading), executes program, then returns to the original state.\\n- save(path): save the picture to file \\n\\nYou can also choose from the following helper functions: \\ndef draw_small_5gon():\\n\\n    for i in range(5):\\n        forward(2)\\n        left(72.0)\\n\\ndef draw_step():\\n\\n    forward(2)\\n    left(90.0)\\n    forward(2)\\n    left(90.0)\\n    forward(0)\\n    left(180.0)\\n\\ndef draw_small_6gon():\\n\\n    for i in range(6):\\n        forward(2)\\n        left(60.0)\\n\\ndef draw_small_triangle():\\n\\n    for i in range(3):\\n        forward(2)\\n        left(120.0)\\n\\ndef draw_small_7gon():\\n\\n    for i in range(7):\\n        forward(2)\\n        left(51.42857142857143)\\n\\ndef draw_semicircle():\\n\\n    for i in range(HALF_INF):\\n        forward(EPS_DIST * 2)\\n        left(EPS_ANGLE)\\n\\ndef draw_small_circle():\\n\\n    for i in range(HALF_INF):\\n        forward(EPS_DIST * 1)\\n        left(EPS_ANGLE)\\n    for i in range(HALF_INF):\\n        forward(EPS_DIST * 1)\\n        left(EPS_ANGLE)\\n\\ndef draw_medium_5gon():\\n\\n    for i in range(5):\\n        forward(4)\\n        left(72.0)\\n\\ndef draw_small_8gon():\\n\\n    for i in range(8):\\n        forward(2)\\n        left(45.0)\\n\\ndef draw_small_line():\\n\\n    forward(2)\\n    left(0.0)\\n\\ndef draw_medium_triangle():\\n\\n    for i in range(3):\\n        forward(4)\\n        left(120.0)\\n\\ndef draw_small_9gon():\\n\\n    for i in range(9):\\n        forward(2)\\n        left(40.0)\\n\\ndef draw_medium_square():\\n\\n    for i in range(4):\\n        forward(4)\\n        left(90.0)\\n\\ndef draw_medium_semicircle():\\n\\n    for i in range(HALF_INF):\\n        forward(EPS_DIST * 2)\\n        left(EPS_ANGLE)\\n\\ndef draw_7gon():\\n\\n    for i in range(7):\\n        forward(2)\\n        left(51.42857142857143)\\n\\ndef draw_small_5gon_with_space():\\n\\n    draw_small_5gon()\\n    penup()\\n    forward(2)\\n    left(0.0)\\n    pendown()\\n\\n.\\n\\nYou will be given a query and have to produce a program. Begin with a comment that explains your reasoning. For example, you might write\\n# Thought: the query asks for a line, so I will use the forward() function. \\n[/INST]\\n[PYTHON]\\n# Examples:\\n\\n# Query: a greek spiral with 6 turns\\n# Program:\\nfor i in range(7):\\n    forward(1*i)\\n    left(90.0)\\n\\n# Query: a 7 stepped staircase\\n# Program:\\nfor i in range(7):\\n    forward(2)\\n    left(90.0)\\n\\n    forward(2)\\n    left(90.0)\\n\\n    forward(0)\\n    left(180.0)\\n\\n# Query: 7 concentric circle s\\n# Program:\\nfor j in range(8):\\n    for i in range(HALF_INF):\\n        forward(EPS_DIST*j)\\n        left(EPS_ANGLE)\\n    for i in range(HALF_INF):\\n        forward(EPS_DIST*j)\\n        left(EPS_ANGLE)\\n\\n# Query: 7 sided snowflake with a medium semicircle and a small semicircle as arms\\n# Thought: The query asked for 7 sided snowflake with a medium semicircle and a small semicircle as arms so I will use the helper functions: embed\\n# Program:\\nfor j in range(7):\\n    embed(\"\"\"penup()\\nforward(2)\\nleft(0.0)\\n\\npendown()\\nfor i in range(HALF_INF):\\n    forward(EPS_DIST*2)\\n    left(EPS_ANGLE)\\npenup()\\nforward(2)\\nleft(0.0)\\n\\npendown()\\nfor i in range(HALF_INF):\\n    forward(EPS_DIST*1)\\n    left(EPS_ANGLE)\"\"\", locals())\\n    forward(0)\\n    left(51.42857142857143)\\n\\n# Query: 7 sided snowflake with a small square and a medium circle as arms\\n# Thought: The query asked for 7 sided snowflake with a small square and a medium circle as arms so I will use the helper functions: embed\\n# Program:\\nfor j in range(7):\\n    embed(\"\"\"penup()\\nforward(2)\\nleft(0.0)\\n\\npendown()\\nfor i in range(4):\\n    forward(2)\\n    left(90.0)\\npenup()\\nforward(2)\\nleft(0.0)\\n\\npendown()\\nfor i in range(HALF_INF):\\n    forward(EPS_DIST*2)\\n    left(EPS_ANGLE)\\nfor i in range(HALF_INF):\\n    forward(EPS_DIST*2)\\n    left(EPS_ANGLE)\"\"\", locals())\\n    forward(0)\\n    left(51.42857142857143)\\n\\n# Query: 6 medium circle s in a row\\n# Thought: The query asked for 6 medium circle s in a row so I will use the helper functions: embed\\n# Program:\\nfor j in range(6):\\n    embed(\"\"\"for i in range(HALF_INF):\\n    forward(EPS_DIST*2)\\n    left(EPS_ANGLE)\\nfor i in range(HALF_INF):\\n    forward(EPS_DIST*2)\\n    left(EPS_ANGLE)\"\"\", locals())\\n    penup()\\n    forward(2)\\n    left(0.0)\\n\\n    pendown()\\n\\n# Query: 7 sided snowflake with a small 7 gon as arms\\n# Thought: The query asked for 7 sided snowflake with a small 7 gon as arms so I will use the helper functions: embed\\n# Program:\\nfor j in range(7):\\n    embed(\"\"\"for i in range(7):\\n    forward(2)\\n    left(51.42857142857143)\"\"\", locals())\\n    forward(0)\\n    left(51.42857142857143)\\n\\n# Query: a 4 stepped zigzag\\n# Program:\\nforward(0)\\nleft(45.0)\\n\\nfor i in range(4):\\n    forward(2)\\n    left(90.0)\\n\\n    forward(2)\\n    left(180.0 + 90.0)\\n\\n# Query: 7 sided snowflake with a medium line and a small semicircle as arms\\n# Thought: The query asked for 7 sided snowflake with a medium line and a small semicircle as arms so I will use the helper functions: embed\\n# Program:\\nfor j in range(7):\\n    embed(\"\"\"forward(8)\\nleft(0.0)\\nfor i in range(HALF_INF):\\n    forward(EPS_DIST*1)\\n    left(EPS_ANGLE)\"\"\", locals())\\n    forward(0)\\n    left(51.42857142857143)\\n\\n# Query: 8 sided snowflake with a short line and a small 7 gon as arms\\n# Thought: The query asked for 8 sided snowflake with a short line and a small 7 gon as arms so I will use the helper functions: embed\\n# Program:\\nfor j in range(8):\\n    embed(\"\"\"forward(4)\\nleft(0.0)\\nfor i in range(7):\\n    forward(2)\\n    left(51.42857142857143)\"\"\", locals())\\n    forward(0)\\n    left(45.0)\\n\\n[/PYTHON]\\n[INST]\\nPlease generate ONLY the code to produce the answer and nothing else.\\n[/INST]\\n[PYTHON]\\n# Query: a greek spiral with 7 turns\\n# Thought:\""
   ]
  }
 ],
 "metadata": {
  "kernelspec": {
   "display_name": "regal",
   "language": "python",
   "name": "python3"
  },
  "language_info": {
   "codemirror_mode": {
    "name": "ipython",
    "version": 3
   },
   "file_extension": ".py",
   "mimetype": "text/x-python",
   "name": "python",
   "nbconvert_exporter": "python",
   "pygments_lexer": "ipython3",
   "version": "3.9.19"
  }
 },
 "nbformat": 4,
 "nbformat_minor": 2
}
